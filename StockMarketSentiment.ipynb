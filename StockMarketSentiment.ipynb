{
 "cells": [
  {
   "cell_type": "code",
   "execution_count": 3,
   "metadata": {},
   "outputs": [
    {
     "name": "stderr",
     "output_type": "stream",
     "text": [
      "[*********************100%***********************]  1 of 1 completed\n"
     ]
    },
    {
     "name": "stdout",
     "output_type": "stream",
     "text": [
      "Gathering sentiment...\n",
      "Mean Squared Error: 110.44\n",
      "Predicted closing price for tomorrow: $123.02\n"
     ]
    }
   ],
   "source": [
    "import yfinance as yf\n",
    "import pandas as pd\n",
    "import numpy as np\n",
    "from datetime import datetime, timedelta\n",
    "from sklearn.model_selection import train_test_split\n",
    "from sklearn.metrics import mean_squared_error\n",
    "#from vaderSentiment.vaderSentiment import SentimentIntensityAnalyzer\n",
    "import xgboost as xgb\n",
    "import requests\n",
    "\n",
    "# Step 1: Download NVIDIA stock data\n",
    "ticker = 'NVDA'\n",
    "df = yf.download(ticker, period='6mo', interval='1d')\n",
    "df['Prev Close'] = df['Close'].shift(1)\n",
    "df['Return'] = df['Close'].pct_change()\n",
    "df['Volatility'] = df['Return'].rolling(window=3).std()\n",
    "df['Price_Range'] = df['High'] - df['Low']\n",
    "df.dropna(inplace=True)\n",
    "\n",
    "# Step 2: Get news headlines (using NewsAPI or similar)\n",
    "def get_news_sentiment(keyword='NVIDIA', days=5):\n",
    "    #analyzer = SentimentIntensityAnalyzer()\n",
    "    base_url = \"https://newsapi.org/v2/everything\"\n",
    "    api_key = 'YOUR_NEWS_API_KEY'  # ← get from https://newsapi.org/\n",
    "\n",
    "    end_date = datetime.now()\n",
    "    start_date = end_date - timedelta(days=days)\n",
    "    \n",
    "    params = {\n",
    "        'q': keyword,\n",
    "        'from': start_date.strftime('%Y-%m-%d'),\n",
    "        'to': end_date.strftime('%Y-%m-%d'),\n",
    "        'sortBy': 'relevancy',\n",
    "        'apiKey': api_key,\n",
    "        'language': 'en',\n",
    "        'pageSize': 50\n",
    "    }\n",
    "\n",
    "    response = requests.get(base_url, params=params)\n",
    "    headlines = [article['title'] for article in response.json().get('articles', [])]\n",
    "\n",
    "    sentiment_scores = []\n",
    "    for headline in headlines:\n",
    "        #score = analyzer.polarity_scores(headline)['compound']\n",
    "        sentiment_scores.append(score)\n",
    "\n",
    "    avg_sentiment = np.mean(sentiment_scores) if sentiment_scores else 0\n",
    "    return avg_sentiment\n",
    "\n",
    "# Step 3: Create sentiment feature\n",
    "sentiment_values = []\n",
    "dates = df.index\n",
    "\n",
    "print(\"Gathering sentiment...\")\n",
    "for date in dates:\n",
    "    sentiment = get_news_sentiment(days=1)\n",
    "    sentiment_values.append(sentiment)\n",
    "\n",
    "df['Sentiment'] = sentiment_values\n",
    "\n",
    "# Step 4: Target = Tomorrow’s Close\n",
    "df['Target'] = df['Close'].shift(-1)\n",
    "df.dropna(inplace=True)\n",
    "\n",
    "# Step 5: Build model\n",
    "features = ['Prev Close', 'Return', 'Volatility', 'Price_Range', 'Sentiment']\n",
    "X = df[features]\n",
    "y = df['Target']\n",
    "\n",
    "X_train, X_test, y_train, y_test = train_test_split(X, y, shuffle=False, test_size=0.2)\n",
    "\n",
    "model = xgb.XGBRegressor(objective='reg:squarederror', n_estimators=100)\n",
    "model.fit(X_train, y_train)\n",
    "\n",
    "# Step 6: Evaluate\n",
    "preds = model.predict(X_test)\n",
    "mse = mean_squared_error(y_test, preds)\n",
    "print(f\"Mean Squared Error: {mse:.2f}\")\n",
    "\n",
    "# Step 7: Predict tomorrow\n",
    "latest_data = df[features].iloc[-1:]\n",
    "predicted = model.predict(latest_data)\n",
    "print(f\"Predicted closing price for tomorrow: ${predicted[0]:.2f}\")\n"
   ]
  }
 ],
 "metadata": {
  "kernelspec": {
   "display_name": "Python 3",
   "language": "python",
   "name": "python3"
  },
  "language_info": {
   "codemirror_mode": {
    "name": "ipython",
    "version": 3
   },
   "file_extension": ".py",
   "mimetype": "text/x-python",
   "name": "python",
   "nbconvert_exporter": "python",
   "pygments_lexer": "ipython3",
   "version": "3.12.0"
  }
 },
 "nbformat": 4,
 "nbformat_minor": 2
}
